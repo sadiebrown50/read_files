{
 "cells": [
  {
   "cell_type": "markdown",
   "id": "81b82f1c",
   "metadata": {},
   "source": [
    "# Unstructured ----> Structured \n",
    "\n",
    "The zipped documents folder for this week contains a mix of document types. For **only** the documents that hold the name of journalists and key data points associated with them, do the following:\n",
    "\n",
    "1. Write a script that reads each relevant document and gathers:\n",
    "- The Name of the journalist\n",
    "- Article headline\n",
    "- Name of publication\n",
    "- Dateline\n",
    "\n",
    "2. Export these data points to a ```.csv``` file\n",
    "\n",
    "\n",
    "Note: I do not want the text associated with these jouralists.\n"
   ]
  },
  {
   "cell_type": "code",
   "execution_count": 1,
   "id": "700be097",
   "metadata": {},
   "outputs": [],
   "source": [
    "## create more cells as needed."
   ]
  },
  {
   "cell_type": "code",
   "execution_count": 16,
   "id": "6fa8c408",
   "metadata": {},
   "outputs": [],
   "source": [
    "import glob\n",
    "import pandas as pd"
   ]
  },
  {
   "cell_type": "code",
   "execution_count": 2,
   "id": "6935862d",
   "metadata": {},
   "outputs": [],
   "source": [
    "## This seems very similar to the in class exercise. We will grab the files\n",
    "## open and read them and find and store the data we need using a forloop"
   ]
  },
  {
   "cell_type": "code",
   "execution_count": 9,
   "id": "1b0e96de",
   "metadata": {},
   "outputs": [
    {
     "data": {
      "text/plain": [
       "['hw-wk-08-docs/some-docs-06.txt',\n",
       " 'hw-wk-08-docs/some-docs-07.txt',\n",
       " 'hw-wk-08-docs/some-docs-05.txt',\n",
       " 'hw-wk-08-docs/some-docs-04.txt',\n",
       " 'hw-wk-08-docs/some-docs-10.txt',\n",
       " 'hw-wk-08-docs/some-docs-01.txt',\n",
       " 'hw-wk-08-docs/some-docs-03.txt',\n",
       " 'hw-wk-08-docs/some-docs-02.txt',\n",
       " 'hw-wk-08-docs/some-docs-09.txt',\n",
       " 'hw-wk-08-docs/some-docs-08.txt']"
      ]
     },
     "execution_count": 9,
     "metadata": {},
     "output_type": "execute_result"
    }
   ],
   "source": [
    "## The files that we want have a similar structure\n",
    "files = glob.glob(\"hw-wk-08-docs/some-docs-*.txt\")\n",
    "files"
   ]
  },
  {
   "cell_type": "code",
   "execution_count": 7,
   "id": "a5b4ea80",
   "metadata": {},
   "outputs": [
    {
     "name": "stdout",
     "output_type": "stream",
     "text": [
      "Name: Peter Schjeldahl\n",
      "\n",
      "Article: The Mysteries of Mondrian\n",
      "\n",
      "Outlet: The New Yorker\n",
      "\n",
      "Date: September 26, 2022\n",
      "\n",
      "A newly translated biography excavates the enigmatic genius of the Dutch modernist who reduced painting’s whats and hows to a rock-bottom why.\n",
      "\n",
      "\n"
     ]
    }
   ],
   "source": [
    "#Lets see if this works\n",
    "with open(\"hw-wk-08-docs/some-docs-01.txt\", \"r\") as my_text:\n",
    "    print(my_text.read())"
   ]
  },
  {
   "cell_type": "code",
   "execution_count": 14,
   "id": "688ba504",
   "metadata": {},
   "outputs": [
    {
     "data": {
      "text/plain": [
       "[{'name': 'Lisa Armstrong',\n",
       "  'headline': 'A mother watches helplessly as her teenage boy deteriorates in a Texas youth prison',\n",
       "  'publication': 'Texas Tribune',\n",
       "  'date': 'Aug. 3, 2022'},\n",
       " {'name': 'Maria Mendez',\n",
       "  'headline': 'Early voting has started in Texas. Here are your rights at the polls.',\n",
       "  'publication': 'Texas Tribune',\n",
       "  'date': 'Oct. 24, 2022'},\n",
       " {'name': 'Donald James',\n",
       "  'headline': 'Is City Council Ready to Vote “Yes” on Restaurant Grading Ordinance for Detroit?',\n",
       "  'publication': 'Michigan Chronicle',\n",
       "  'date': 'Oct. 20, 2022'},\n",
       " {'name': 'Nikole Hannah-Jones',\n",
       "  'headline': 'What is owed',\n",
       "  'publication': 'The New York Times',\n",
       "  'date': 'June 30, 2020'},\n",
       " {'name': 'Karen Juanita Carrillo',\n",
       "  'headline': 'Plaque unveiled for African American suffragists in Brooklyn',\n",
       "  'publication': 'Amsterdam News',\n",
       "  'date': 'Oct. 20, 2022'},\n",
       " {'name': 'Peter Schjeldahl',\n",
       "  'headline': 'The Mysteries of Mondrian',\n",
       "  'publication': 'The New Yorker',\n",
       "  'date': 'September 26, 2022'},\n",
       " {'name': 'Jason L. Riley',\n",
       "  'headline': 'The GOP’s 2022 Midterm Slate Is More Diverse Than Ever',\n",
       "  'publication': 'The Wall Street Journal',\n",
       "  'date': 'Oct. 26, 2022'},\n",
       " {'name': 'Somini Sengupta',\n",
       "  'headline': 'Inside the Global Effort to Keep Perfectly Good Food Out of the Dump',\n",
       "  'publication': 'The New York Times',\n",
       "  'date': 'Oct. 13, 2022'},\n",
       " {'name': 'André Beganski',\n",
       "  'headline': 'Indictment Against Former OpenSea Employee Moves Forward',\n",
       "  'publication': 'Decrypt',\n",
       "  'date': 'Oct. 23, 2022'},\n",
       " {'name': 'Candace Pedraza',\n",
       "  'headline': 'Disabled New Yorkers Face Off With MTA Over Dropped Mask Mandate',\n",
       "  'publication': 'The City',\n",
       "  'date': 'Sept. 22, 2022'}]"
      ]
     },
     "execution_count": 14,
     "metadata": {},
     "output_type": "execute_result"
    }
   ],
   "source": [
    "## okay it worked, lets run the whole list through a forloop\n",
    "## this was tricky because I had to target every other line\n",
    "journalist_info = []\n",
    "for file in files:\n",
    "    with open(file, \"r\") as file_text:\n",
    "        all_text = file_text.readlines()\n",
    "        name = all_text[0].replace(\"Name: \", \"\").replace(\"\\n\", \"\")\n",
    "        headline = all_text[2].replace(\"Article: \", \"\").replace(\"\\n\", \"\")\n",
    "        publication = all_text[4].replace(\"Outlet: \", \"\").replace(\"\\n\", \"\")\n",
    "        date = all_text[6].replace(\"Date: \", \"\").replace(\"\\n\", \"\")\n",
    "        journalist_dict = {\"name\": name,\n",
    "                          \"headline\": headline,\n",
    "                          \"publication\": publication,\n",
    "                          \"date\": date,}\n",
    "        journalist_info.append(journalist_dict)\n",
    "journalist_info"
   ]
  },
  {
   "cell_type": "code",
   "execution_count": 18,
   "id": "eedffa58",
   "metadata": {},
   "outputs": [
    {
     "data": {
      "text/html": [
       "<div>\n",
       "<style scoped>\n",
       "    .dataframe tbody tr th:only-of-type {\n",
       "        vertical-align: middle;\n",
       "    }\n",
       "\n",
       "    .dataframe tbody tr th {\n",
       "        vertical-align: top;\n",
       "    }\n",
       "\n",
       "    .dataframe thead th {\n",
       "        text-align: right;\n",
       "    }\n",
       "</style>\n",
       "<table border=\"1\" class=\"dataframe\">\n",
       "  <thead>\n",
       "    <tr style=\"text-align: right;\">\n",
       "      <th></th>\n",
       "      <th>name</th>\n",
       "      <th>headline</th>\n",
       "      <th>publication</th>\n",
       "      <th>date</th>\n",
       "    </tr>\n",
       "  </thead>\n",
       "  <tbody>\n",
       "    <tr>\n",
       "      <th>0</th>\n",
       "      <td>Lisa Armstrong</td>\n",
       "      <td>A mother watches helplessly as her teenage boy...</td>\n",
       "      <td>Texas Tribune</td>\n",
       "      <td>Aug. 3, 2022</td>\n",
       "    </tr>\n",
       "    <tr>\n",
       "      <th>1</th>\n",
       "      <td>Maria Mendez</td>\n",
       "      <td>Early voting has started in Texas. Here are yo...</td>\n",
       "      <td>Texas Tribune</td>\n",
       "      <td>Oct. 24, 2022</td>\n",
       "    </tr>\n",
       "    <tr>\n",
       "      <th>2</th>\n",
       "      <td>Donald James</td>\n",
       "      <td>Is City Council Ready to Vote “Yes” on Restaur...</td>\n",
       "      <td>Michigan Chronicle</td>\n",
       "      <td>Oct. 20, 2022</td>\n",
       "    </tr>\n",
       "    <tr>\n",
       "      <th>3</th>\n",
       "      <td>Nikole Hannah-Jones</td>\n",
       "      <td>What is owed</td>\n",
       "      <td>The New York Times</td>\n",
       "      <td>June 30, 2020</td>\n",
       "    </tr>\n",
       "    <tr>\n",
       "      <th>4</th>\n",
       "      <td>Karen Juanita Carrillo</td>\n",
       "      <td>Plaque unveiled for African American suffragis...</td>\n",
       "      <td>Amsterdam News</td>\n",
       "      <td>Oct. 20, 2022</td>\n",
       "    </tr>\n",
       "    <tr>\n",
       "      <th>5</th>\n",
       "      <td>Peter Schjeldahl</td>\n",
       "      <td>The Mysteries of Mondrian</td>\n",
       "      <td>The New Yorker</td>\n",
       "      <td>September 26, 2022</td>\n",
       "    </tr>\n",
       "    <tr>\n",
       "      <th>6</th>\n",
       "      <td>Jason L. Riley</td>\n",
       "      <td>The GOP’s 2022 Midterm Slate Is More Diverse T...</td>\n",
       "      <td>The Wall Street Journal</td>\n",
       "      <td>Oct. 26, 2022</td>\n",
       "    </tr>\n",
       "    <tr>\n",
       "      <th>7</th>\n",
       "      <td>Somini Sengupta</td>\n",
       "      <td>Inside the Global Effort to Keep Perfectly Goo...</td>\n",
       "      <td>The New York Times</td>\n",
       "      <td>Oct. 13, 2022</td>\n",
       "    </tr>\n",
       "    <tr>\n",
       "      <th>8</th>\n",
       "      <td>André Beganski</td>\n",
       "      <td>Indictment Against Former OpenSea Employee Mov...</td>\n",
       "      <td>Decrypt</td>\n",
       "      <td>Oct. 23, 2022</td>\n",
       "    </tr>\n",
       "    <tr>\n",
       "      <th>9</th>\n",
       "      <td>Candace Pedraza</td>\n",
       "      <td>Disabled New Yorkers Face Off With MTA Over Dr...</td>\n",
       "      <td>The City</td>\n",
       "      <td>Sept. 22, 2022</td>\n",
       "    </tr>\n",
       "  </tbody>\n",
       "</table>\n",
       "</div>"
      ],
      "text/plain": [
       "                     name                                           headline  \\\n",
       "0          Lisa Armstrong  A mother watches helplessly as her teenage boy...   \n",
       "1            Maria Mendez  Early voting has started in Texas. Here are yo...   \n",
       "2            Donald James  Is City Council Ready to Vote “Yes” on Restaur...   \n",
       "3     Nikole Hannah-Jones                                       What is owed   \n",
       "4  Karen Juanita Carrillo  Plaque unveiled for African American suffragis...   \n",
       "5        Peter Schjeldahl                          The Mysteries of Mondrian   \n",
       "6          Jason L. Riley  The GOP’s 2022 Midterm Slate Is More Diverse T...   \n",
       "7         Somini Sengupta  Inside the Global Effort to Keep Perfectly Goo...   \n",
       "8          André Beganski  Indictment Against Former OpenSea Employee Mov...   \n",
       "9         Candace Pedraza  Disabled New Yorkers Face Off With MTA Over Dr...   \n",
       "\n",
       "               publication                date  \n",
       "0            Texas Tribune        Aug. 3, 2022  \n",
       "1            Texas Tribune       Oct. 24, 2022  \n",
       "2       Michigan Chronicle       Oct. 20, 2022  \n",
       "3       The New York Times       June 30, 2020  \n",
       "4           Amsterdam News       Oct. 20, 2022  \n",
       "5           The New Yorker  September 26, 2022  \n",
       "6  The Wall Street Journal       Oct. 26, 2022  \n",
       "7       The New York Times       Oct. 13, 2022  \n",
       "8                  Decrypt       Oct. 23, 2022  \n",
       "9                 The City      Sept. 22, 2022  "
      ]
     },
     "execution_count": 18,
     "metadata": {},
     "output_type": "execute_result"
    }
   ],
   "source": [
    "df = pd.DataFrame(journalist_info)\n",
    "df"
   ]
  },
  {
   "cell_type": "code",
   "execution_count": 19,
   "id": "d2fc74d2",
   "metadata": {},
   "outputs": [],
   "source": [
    "df.to_csv(\"journalist-info\", encoding = \"utf-8\", index = False)\n",
    "    "
   ]
  },
  {
   "cell_type": "code",
   "execution_count": null,
   "id": "720841bc",
   "metadata": {},
   "outputs": [],
   "source": []
  }
 ],
 "metadata": {
  "kernelspec": {
   "display_name": "Python 3 (ipykernel)",
   "language": "python",
   "name": "python3"
  },
  "language_info": {
   "codemirror_mode": {
    "name": "ipython",
    "version": 3
   },
   "file_extension": ".py",
   "mimetype": "text/x-python",
   "name": "python",
   "nbconvert_exporter": "python",
   "pygments_lexer": "ipython3",
   "version": "3.9.7"
  }
 },
 "nbformat": 4,
 "nbformat_minor": 5
}
